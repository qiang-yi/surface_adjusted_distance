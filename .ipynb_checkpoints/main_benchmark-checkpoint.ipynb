{
 "cells": [
  {
   "cell_type": "markdown",
   "metadata": {},
   "source": [
    "# Surface adjusted distance project\n",
    "\n",
    "Start by loading up some packages. \n",
    "\n",
    "## Note\n",
    "\n",
    "Before running this code, use the Clusters tab to provision some resources (multiple cpus!)."
   ]
  },
  {
   "cell_type": "code",
   "execution_count": 31,
   "metadata": {},
   "outputs": [
    {
     "name": "stdout",
     "output_type": "stream",
     "text": [
      "3.7.1 (default, Dec 10 2018, 22:54:23) [MSC v.1915 64 bit (AMD64)]\n"
     ]
    }
   ],
   "source": [
    "import sys\n",
    "print (sys.version)\n",
    "sys.path.append(\"C:/Users/yi/git/TerrainMetrics_conda2/Update\")\n",
    "import time\n",
    "import itertools\n",
    "import cProfile, pstats\n",
    "import os.path\n",
    "import numpy as np\n",
    "import pandas as pd\n",
    "from ipyparallel import Client\n",
    "import surface_adjusted_benchmark\n",
    "\n",
    "# next line loads packages installed for my user account\n",
    "sys.path.append(\"C:/ProgramData/Anaconda3/lib/site-packages\")"
   ]
  },
  {
   "cell_type": "markdown",
   "metadata": {},
   "source": [
    "Verify that the cluster is up and running"
   ]
  },
  {
   "cell_type": "code",
   "execution_count": 34,
   "metadata": {},
   "outputs": [
    {
     "name": "stdout",
     "output_type": "stream",
     "text": [
      "[0, 1, 2, 3, 4, 5, 6, 7]\n"
     ]
    }
   ],
   "source": [
    "# check cluster status\n",
    "rc = Client()\n",
    "print(rc.ids)"
   ]
  },
  {
   "cell_type": "code",
   "execution_count": null,
   "metadata": {},
   "outputs": [],
   "source": [
    "lview = rc.load_balanced_view()\n",
    "lview.block = True\n",
    "print(lview)"
   ]
  },
  {
   "cell_type": "code",
   "execution_count": null,
   "metadata": {},
   "outputs": [],
   "source": [
    "#test it \n",
    "lview.map(lambda x:x**10, range(8))"
   ]
  },
  {
   "cell_type": "markdown",
   "metadata": {},
   "source": [
    "Now use `%px` to import packages on each of the processors."
   ]
  },
  {
   "cell_type": "code",
   "execution_count": null,
   "metadata": {},
   "outputs": [],
   "source": [
    "%px import sys\n",
    "%px sys.path.append(\"/home/majo3748/.local/lib/python3.4/site-packages\")\n",
    "%px sys.path.append(\"/projects/majo3748/TerrainMetrics_conda2\")\n",
    "\n",
    "# load surfaceAdjusted module on each worker\n",
    "%px import surfaceAdjusted"
   ]
  },
  {
   "cell_type": "markdown",
   "metadata": {},
   "source": [
    "## Determining the cases \n",
    "\n",
    "We need to generate a data frame containing a row for each distance calculation we want to do. \n",
    "The following code blocks assign the cases of interest, and generate all relevant combinations, producing a data frame at the end."
   ]
  },
  {
   "cell_type": "code",
   "execution_count": 3,
   "metadata": {},
   "outputs": [],
   "source": [
    "# for testing, just use the larger resolutions\n",
    "resolution_L = [3,10,30,100,1000]\n",
    "\n",
    "# NN interpolation does not work, leave commented out\n",
    "methods = ['clos', 'wavg', 'biLin', 'biQua', 'biQub', 'TIN', 'p2p']#, 'NN']\n",
    "\n",
    "# for testing, just use one state\n",
    "study_areas = [\"Colorado\", \"Nebraska\", \"Louisiana\", \"Washington\", \"NC\", \"Texas\"]\n",
    "\n",
    "data_dir = r\"D:/SAD/Modified_2/\""
   ]
  },
  {
   "cell_type": "code",
   "execution_count": 4,
   "metadata": {},
   "outputs": [],
   "source": [
    "def expandgrid(*itrs):\n",
    "    \"\"\"\n",
    "    Generate all possible combinations of elements in multiple lists\n",
    "    \n",
    "    Args:\n",
    "        - lists separated by commas\n",
    "    \n",
    "    Example:\n",
    "        >>> expandgrid([0, 1], [2, 3, 4])\n",
    "        >>> [[0, 0, 0, 1, 1, 1], [2, 3, 4, 2, 3, 4]]\n",
    "    \n",
    "    Returns: \n",
    "        - a list of lists, with one element in each inner list for each \n",
    "          combination of elements in the input lists\n",
    "    \"\"\"\n",
    "    product = list(itertools.product(*itrs))\n",
    "    return [[x[i] for x in product] for i in range(len(itrs))]"
   ]
  },
  {
   "cell_type": "code",
   "execution_count": 5,
   "metadata": {
    "scrolled": true
   },
   "outputs": [
    {
     "data": {
      "text/html": [
       "<div>\n",
       "<style scoped>\n",
       "    .dataframe tbody tr th:only-of-type {\n",
       "        vertical-align: middle;\n",
       "    }\n",
       "\n",
       "    .dataframe tbody tr th {\n",
       "        vertical-align: top;\n",
       "    }\n",
       "\n",
       "    .dataframe thead th {\n",
       "        text-align: right;\n",
       "    }\n",
       "</style>\n",
       "<table border=\"1\" class=\"dataframe\">\n",
       "  <thead>\n",
       "    <tr style=\"text-align: right;\">\n",
       "      <th></th>\n",
       "      <th>transect</th>\n",
       "      <th>method</th>\n",
       "      <th>resolution</th>\n",
       "      <th>path</th>\n",
       "      <th>area</th>\n",
       "    </tr>\n",
       "  </thead>\n",
       "  <tbody>\n",
       "    <tr>\n",
       "      <th>count</th>\n",
       "      <td>30000</td>\n",
       "      <td>30000</td>\n",
       "      <td>30000</td>\n",
       "      <td>30000</td>\n",
       "      <td>30000</td>\n",
       "    </tr>\n",
       "    <tr>\n",
       "      <th>unique</th>\n",
       "      <td>1000</td>\n",
       "      <td>1</td>\n",
       "      <td>5</td>\n",
       "      <td>6</td>\n",
       "      <td>6</td>\n",
       "    </tr>\n",
       "    <tr>\n",
       "      <th>top</th>\n",
       "      <td>999</td>\n",
       "      <td>clos</td>\n",
       "      <td>1000</td>\n",
       "      <td>D:/SAD/Modified_2/Washington/simulation/</td>\n",
       "      <td>NC</td>\n",
       "    </tr>\n",
       "    <tr>\n",
       "      <th>freq</th>\n",
       "      <td>30</td>\n",
       "      <td>30000</td>\n",
       "      <td>6000</td>\n",
       "      <td>5000</td>\n",
       "      <td>5000</td>\n",
       "    </tr>\n",
       "  </tbody>\n",
       "</table>\n",
       "</div>"
      ],
      "text/plain": [
       "        transect method  resolution                                      path  \\\n",
       "count      30000  30000       30000                                     30000   \n",
       "unique      1000      1           5                                         6   \n",
       "top          999   clos        1000  D:/SAD/Modified_2/Washington/simulation/   \n",
       "freq          30  30000        6000                                      5000   \n",
       "\n",
       "         area  \n",
       "count   30000  \n",
       "unique      6  \n",
       "top        NC  \n",
       "freq     5000  "
      ]
     },
     "execution_count": 5,
     "metadata": {},
     "output_type": "execute_result"
    }
   ],
   "source": [
    "# Determine all of the cases to compute (area X resolution X transect X method combinations)\n",
    "cases_list = []\n",
    "for area in study_areas:\n",
    "    area_start_time = time.time()\n",
    "    area_path = data_dir + area + '/simulation/'\n",
    "    area_transects = np.genfromtxt(area_path + 'tran_sim_pts.csv', delimiter=\",\")\n",
    "    \n",
    "    for resolution in resolution_L:\n",
    "        \n",
    "        n_transects = int(area_transects.shape[0] / 2)\n",
    "        transect_indices = [i for i in range(n_transects)]\n",
    "\n",
    "        cases = expandgrid(transect_indices, [\"clos\"], [resolution], [area_path], [area])\n",
    "        \n",
    "        n_cases = len(cases[0])\n",
    "        \n",
    "        df = pd.DataFrame(cases).transpose()\n",
    "        df.columns = [\"transect\", \"method\", \"resolution\", \"path\", \"area\"]\n",
    "        cases_list.append(df)\n",
    "\n",
    "cases_df = pd.concat(cases_list)\n",
    "cases_df.describe()"
   ]
  },
  {
   "cell_type": "markdown",
   "metadata": {},
   "source": [
    "For testing purposes, we'll just use a few of the transects."
   ]
  },
  {
   "cell_type": "code",
   "execution_count": 6,
   "metadata": {},
   "outputs": [
    {
     "data": {
      "text/html": [
       "<div>\n",
       "<style scoped>\n",
       "    .dataframe tbody tr th:only-of-type {\n",
       "        vertical-align: middle;\n",
       "    }\n",
       "\n",
       "    .dataframe tbody tr th {\n",
       "        vertical-align: top;\n",
       "    }\n",
       "\n",
       "    .dataframe thead th {\n",
       "        text-align: right;\n",
       "    }\n",
       "</style>\n",
       "<table border=\"1\" class=\"dataframe\">\n",
       "  <thead>\n",
       "    <tr style=\"text-align: right;\">\n",
       "      <th></th>\n",
       "      <th>transect</th>\n",
       "      <th>method</th>\n",
       "      <th>resolution</th>\n",
       "      <th>path</th>\n",
       "      <th>area</th>\n",
       "    </tr>\n",
       "  </thead>\n",
       "  <tbody>\n",
       "    <tr>\n",
       "      <th>0</th>\n",
       "      <td>0</td>\n",
       "      <td>clos</td>\n",
       "      <td>3</td>\n",
       "      <td>D:/SAD/Modified_2/Colorado/simulation/</td>\n",
       "      <td>Colorado</td>\n",
       "    </tr>\n",
       "    <tr>\n",
       "      <th>0</th>\n",
       "      <td>0</td>\n",
       "      <td>clos</td>\n",
       "      <td>10</td>\n",
       "      <td>D:/SAD/Modified_2/Colorado/simulation/</td>\n",
       "      <td>Colorado</td>\n",
       "    </tr>\n",
       "    <tr>\n",
       "      <th>0</th>\n",
       "      <td>0</td>\n",
       "      <td>clos</td>\n",
       "      <td>30</td>\n",
       "      <td>D:/SAD/Modified_2/Colorado/simulation/</td>\n",
       "      <td>Colorado</td>\n",
       "    </tr>\n",
       "    <tr>\n",
       "      <th>0</th>\n",
       "      <td>0</td>\n",
       "      <td>clos</td>\n",
       "      <td>100</td>\n",
       "      <td>D:/SAD/Modified_2/Colorado/simulation/</td>\n",
       "      <td>Colorado</td>\n",
       "    </tr>\n",
       "    <tr>\n",
       "      <th>0</th>\n",
       "      <td>0</td>\n",
       "      <td>clos</td>\n",
       "      <td>1000</td>\n",
       "      <td>D:/SAD/Modified_2/Colorado/simulation/</td>\n",
       "      <td>Colorado</td>\n",
       "    </tr>\n",
       "    <tr>\n",
       "      <th>0</th>\n",
       "      <td>0</td>\n",
       "      <td>clos</td>\n",
       "      <td>3</td>\n",
       "      <td>D:/SAD/Modified_2/Nebraska/simulation/</td>\n",
       "      <td>Nebraska</td>\n",
       "    </tr>\n",
       "    <tr>\n",
       "      <th>0</th>\n",
       "      <td>0</td>\n",
       "      <td>clos</td>\n",
       "      <td>10</td>\n",
       "      <td>D:/SAD/Modified_2/Nebraska/simulation/</td>\n",
       "      <td>Nebraska</td>\n",
       "    </tr>\n",
       "    <tr>\n",
       "      <th>0</th>\n",
       "      <td>0</td>\n",
       "      <td>clos</td>\n",
       "      <td>30</td>\n",
       "      <td>D:/SAD/Modified_2/Nebraska/simulation/</td>\n",
       "      <td>Nebraska</td>\n",
       "    </tr>\n",
       "    <tr>\n",
       "      <th>0</th>\n",
       "      <td>0</td>\n",
       "      <td>clos</td>\n",
       "      <td>100</td>\n",
       "      <td>D:/SAD/Modified_2/Nebraska/simulation/</td>\n",
       "      <td>Nebraska</td>\n",
       "    </tr>\n",
       "    <tr>\n",
       "      <th>0</th>\n",
       "      <td>0</td>\n",
       "      <td>clos</td>\n",
       "      <td>1000</td>\n",
       "      <td>D:/SAD/Modified_2/Nebraska/simulation/</td>\n",
       "      <td>Nebraska</td>\n",
       "    </tr>\n",
       "    <tr>\n",
       "      <th>0</th>\n",
       "      <td>0</td>\n",
       "      <td>clos</td>\n",
       "      <td>3</td>\n",
       "      <td>D:/SAD/Modified_2/Louisiana/simulation/</td>\n",
       "      <td>Louisiana</td>\n",
       "    </tr>\n",
       "    <tr>\n",
       "      <th>0</th>\n",
       "      <td>0</td>\n",
       "      <td>clos</td>\n",
       "      <td>10</td>\n",
       "      <td>D:/SAD/Modified_2/Louisiana/simulation/</td>\n",
       "      <td>Louisiana</td>\n",
       "    </tr>\n",
       "    <tr>\n",
       "      <th>0</th>\n",
       "      <td>0</td>\n",
       "      <td>clos</td>\n",
       "      <td>30</td>\n",
       "      <td>D:/SAD/Modified_2/Louisiana/simulation/</td>\n",
       "      <td>Louisiana</td>\n",
       "    </tr>\n",
       "    <tr>\n",
       "      <th>0</th>\n",
       "      <td>0</td>\n",
       "      <td>clos</td>\n",
       "      <td>100</td>\n",
       "      <td>D:/SAD/Modified_2/Louisiana/simulation/</td>\n",
       "      <td>Louisiana</td>\n",
       "    </tr>\n",
       "    <tr>\n",
       "      <th>0</th>\n",
       "      <td>0</td>\n",
       "      <td>clos</td>\n",
       "      <td>1000</td>\n",
       "      <td>D:/SAD/Modified_2/Louisiana/simulation/</td>\n",
       "      <td>Louisiana</td>\n",
       "    </tr>\n",
       "    <tr>\n",
       "      <th>0</th>\n",
       "      <td>0</td>\n",
       "      <td>clos</td>\n",
       "      <td>3</td>\n",
       "      <td>D:/SAD/Modified_2/Washington/simulation/</td>\n",
       "      <td>Washington</td>\n",
       "    </tr>\n",
       "    <tr>\n",
       "      <th>0</th>\n",
       "      <td>0</td>\n",
       "      <td>clos</td>\n",
       "      <td>10</td>\n",
       "      <td>D:/SAD/Modified_2/Washington/simulation/</td>\n",
       "      <td>Washington</td>\n",
       "    </tr>\n",
       "    <tr>\n",
       "      <th>0</th>\n",
       "      <td>0</td>\n",
       "      <td>clos</td>\n",
       "      <td>30</td>\n",
       "      <td>D:/SAD/Modified_2/Washington/simulation/</td>\n",
       "      <td>Washington</td>\n",
       "    </tr>\n",
       "    <tr>\n",
       "      <th>0</th>\n",
       "      <td>0</td>\n",
       "      <td>clos</td>\n",
       "      <td>100</td>\n",
       "      <td>D:/SAD/Modified_2/Washington/simulation/</td>\n",
       "      <td>Washington</td>\n",
       "    </tr>\n",
       "    <tr>\n",
       "      <th>0</th>\n",
       "      <td>0</td>\n",
       "      <td>clos</td>\n",
       "      <td>1000</td>\n",
       "      <td>D:/SAD/Modified_2/Washington/simulation/</td>\n",
       "      <td>Washington</td>\n",
       "    </tr>\n",
       "    <tr>\n",
       "      <th>0</th>\n",
       "      <td>0</td>\n",
       "      <td>clos</td>\n",
       "      <td>3</td>\n",
       "      <td>D:/SAD/Modified_2/NC/simulation/</td>\n",
       "      <td>NC</td>\n",
       "    </tr>\n",
       "    <tr>\n",
       "      <th>0</th>\n",
       "      <td>0</td>\n",
       "      <td>clos</td>\n",
       "      <td>10</td>\n",
       "      <td>D:/SAD/Modified_2/NC/simulation/</td>\n",
       "      <td>NC</td>\n",
       "    </tr>\n",
       "    <tr>\n",
       "      <th>0</th>\n",
       "      <td>0</td>\n",
       "      <td>clos</td>\n",
       "      <td>30</td>\n",
       "      <td>D:/SAD/Modified_2/NC/simulation/</td>\n",
       "      <td>NC</td>\n",
       "    </tr>\n",
       "    <tr>\n",
       "      <th>0</th>\n",
       "      <td>0</td>\n",
       "      <td>clos</td>\n",
       "      <td>100</td>\n",
       "      <td>D:/SAD/Modified_2/NC/simulation/</td>\n",
       "      <td>NC</td>\n",
       "    </tr>\n",
       "    <tr>\n",
       "      <th>0</th>\n",
       "      <td>0</td>\n",
       "      <td>clos</td>\n",
       "      <td>1000</td>\n",
       "      <td>D:/SAD/Modified_2/NC/simulation/</td>\n",
       "      <td>NC</td>\n",
       "    </tr>\n",
       "    <tr>\n",
       "      <th>0</th>\n",
       "      <td>0</td>\n",
       "      <td>clos</td>\n",
       "      <td>3</td>\n",
       "      <td>D:/SAD/Modified_2/Texas/simulation/</td>\n",
       "      <td>Texas</td>\n",
       "    </tr>\n",
       "    <tr>\n",
       "      <th>0</th>\n",
       "      <td>0</td>\n",
       "      <td>clos</td>\n",
       "      <td>10</td>\n",
       "      <td>D:/SAD/Modified_2/Texas/simulation/</td>\n",
       "      <td>Texas</td>\n",
       "    </tr>\n",
       "    <tr>\n",
       "      <th>0</th>\n",
       "      <td>0</td>\n",
       "      <td>clos</td>\n",
       "      <td>30</td>\n",
       "      <td>D:/SAD/Modified_2/Texas/simulation/</td>\n",
       "      <td>Texas</td>\n",
       "    </tr>\n",
       "    <tr>\n",
       "      <th>0</th>\n",
       "      <td>0</td>\n",
       "      <td>clos</td>\n",
       "      <td>100</td>\n",
       "      <td>D:/SAD/Modified_2/Texas/simulation/</td>\n",
       "      <td>Texas</td>\n",
       "    </tr>\n",
       "    <tr>\n",
       "      <th>0</th>\n",
       "      <td>0</td>\n",
       "      <td>clos</td>\n",
       "      <td>1000</td>\n",
       "      <td>D:/SAD/Modified_2/Texas/simulation/</td>\n",
       "      <td>Texas</td>\n",
       "    </tr>\n",
       "  </tbody>\n",
       "</table>\n",
       "</div>"
      ],
      "text/plain": [
       "  transect method resolution                                      path  \\\n",
       "0        0   clos          3    D:/SAD/Modified_2/Colorado/simulation/   \n",
       "0        0   clos         10    D:/SAD/Modified_2/Colorado/simulation/   \n",
       "0        0   clos         30    D:/SAD/Modified_2/Colorado/simulation/   \n",
       "0        0   clos        100    D:/SAD/Modified_2/Colorado/simulation/   \n",
       "0        0   clos       1000    D:/SAD/Modified_2/Colorado/simulation/   \n",
       "0        0   clos          3    D:/SAD/Modified_2/Nebraska/simulation/   \n",
       "0        0   clos         10    D:/SAD/Modified_2/Nebraska/simulation/   \n",
       "0        0   clos         30    D:/SAD/Modified_2/Nebraska/simulation/   \n",
       "0        0   clos        100    D:/SAD/Modified_2/Nebraska/simulation/   \n",
       "0        0   clos       1000    D:/SAD/Modified_2/Nebraska/simulation/   \n",
       "0        0   clos          3   D:/SAD/Modified_2/Louisiana/simulation/   \n",
       "0        0   clos         10   D:/SAD/Modified_2/Louisiana/simulation/   \n",
       "0        0   clos         30   D:/SAD/Modified_2/Louisiana/simulation/   \n",
       "0        0   clos        100   D:/SAD/Modified_2/Louisiana/simulation/   \n",
       "0        0   clos       1000   D:/SAD/Modified_2/Louisiana/simulation/   \n",
       "0        0   clos          3  D:/SAD/Modified_2/Washington/simulation/   \n",
       "0        0   clos         10  D:/SAD/Modified_2/Washington/simulation/   \n",
       "0        0   clos         30  D:/SAD/Modified_2/Washington/simulation/   \n",
       "0        0   clos        100  D:/SAD/Modified_2/Washington/simulation/   \n",
       "0        0   clos       1000  D:/SAD/Modified_2/Washington/simulation/   \n",
       "0        0   clos          3          D:/SAD/Modified_2/NC/simulation/   \n",
       "0        0   clos         10          D:/SAD/Modified_2/NC/simulation/   \n",
       "0        0   clos         30          D:/SAD/Modified_2/NC/simulation/   \n",
       "0        0   clos        100          D:/SAD/Modified_2/NC/simulation/   \n",
       "0        0   clos       1000          D:/SAD/Modified_2/NC/simulation/   \n",
       "0        0   clos          3       D:/SAD/Modified_2/Texas/simulation/   \n",
       "0        0   clos         10       D:/SAD/Modified_2/Texas/simulation/   \n",
       "0        0   clos         30       D:/SAD/Modified_2/Texas/simulation/   \n",
       "0        0   clos        100       D:/SAD/Modified_2/Texas/simulation/   \n",
       "0        0   clos       1000       D:/SAD/Modified_2/Texas/simulation/   \n",
       "\n",
       "         area  \n",
       "0    Colorado  \n",
       "0    Colorado  \n",
       "0    Colorado  \n",
       "0    Colorado  \n",
       "0    Colorado  \n",
       "0    Nebraska  \n",
       "0    Nebraska  \n",
       "0    Nebraska  \n",
       "0    Nebraska  \n",
       "0    Nebraska  \n",
       "0   Louisiana  \n",
       "0   Louisiana  \n",
       "0   Louisiana  \n",
       "0   Louisiana  \n",
       "0   Louisiana  \n",
       "0  Washington  \n",
       "0  Washington  \n",
       "0  Washington  \n",
       "0  Washington  \n",
       "0  Washington  \n",
       "0          NC  \n",
       "0          NC  \n",
       "0          NC  \n",
       "0          NC  \n",
       "0          NC  \n",
       "0       Texas  \n",
       "0       Texas  \n",
       "0       Texas  \n",
       "0       Texas  \n",
       "0       Texas  "
      ]
     },
     "execution_count": 6,
     "metadata": {},
     "output_type": "execute_result"
    }
   ],
   "source": [
    "# subset transects\n",
    "n_transects = 1\n",
    "cases_df = cases_df.loc[lambda df: df.transect < n_transects, :]\n",
    "cases_df"
   ]
  },
  {
   "cell_type": "code",
   "execution_count": 7,
   "metadata": {},
   "outputs": [
    {
     "name": "stdout",
     "output_type": "stream",
     "text": [
      "pnts.shape[0]: 2364\n"
     ]
    },
    {
     "data": {
      "text/plain": [
       "(7121.0443490596235, 0.9939961433410645)"
      ]
     },
     "execution_count": 7,
     "metadata": {},
     "output_type": "execute_result"
    }
   ],
   "source": [
    "# try just one case\n",
    "surface_adjusted_benchmark.distance(\n",
    "                cases_df['transect'].tolist()[0], \n",
    "                cases_df['method'].tolist()[0], \n",
    "                cases_df['resolution'].tolist()[0], \n",
    "                cases_df['path'].tolist()[0])"
   ]
  },
  {
   "cell_type": "markdown",
   "metadata": {},
   "source": [
    "The next line maps our distance function to all of the cases with automatic load balancing. "
   ]
  },
  {
   "cell_type": "code",
   "execution_count": 8,
   "metadata": {
    "scrolled": true
   },
   "outputs": [
    {
     "name": "stdout",
     "output_type": "stream",
     "text": [
      "Processing\n"
     ]
    }
   ],
   "source": [
    "# in parallel\n",
    "print(\"Processing\")\n",
    "res = map(surface_adjusted_benchmark.distance, \n",
    "                cases_df['transect'].tolist(), \n",
    "                cases_df['method'].tolist(), \n",
    "                cases_df['resolution'].tolist(), \n",
    "                cases_df['path'].tolist())"
   ]
  },
  {
   "cell_type": "code",
   "execution_count": 9,
   "metadata": {},
   "outputs": [
    {
     "name": "stdout",
     "output_type": "stream",
     "text": [
      "pnts.shape[0]: 2364\n",
      "pnts.shape[0]: 2325\n",
      "pnts.shape[0]: 774\n",
      "pnts.shape[0]: 258\n",
      "pnts.shape[0]: 21\n",
      "pnts.shape[0]: 14105\n",
      "pnts.shape[0]: 13965\n",
      "pnts.shape[0]: 4653\n",
      "pnts.shape[0]: 1551\n",
      "pnts.shape[0]: 192\n",
      "pnts.shape[0]: 18503\n",
      "pnts.shape[0]: 17163\n",
      "pnts.shape[0]: 5721\n",
      "pnts.shape[0]: 1959\n",
      "pnts.shape[0]: 180\n",
      "pnts.shape[0]: 16096\n",
      "pnts.shape[0]: 14484\n",
      "pnts.shape[0]: 4827\n",
      "pnts.shape[0]: 1446\n",
      "pnts.shape[0]: 216\n",
      "pnts.shape[0]: 9458\n",
      "pnts.shape[0]: 9189\n",
      "pnts.shape[0]: 3057\n",
      "pnts.shape[0]: 1008\n",
      "pnts.shape[0]: 87\n",
      "pnts.shape[0]: 6634\n",
      "pnts.shape[0]: 6246\n",
      "pnts.shape[0]: 2082\n",
      "pnts.shape[0]: 693\n",
      "pnts.shape[0]: 63\n"
     ]
    }
   ],
   "source": [
    "res_list = list(res)"
   ]
  },
  {
   "cell_type": "code",
   "execution_count": 20,
   "metadata": {},
   "outputs": [],
   "source": [
    "res_df=pd.DataFrame(res_list,columns=['distance','time'],dtype=float)"
   ]
  },
  {
   "cell_type": "code",
   "execution_count": 28,
   "metadata": {
    "scrolled": true
   },
   "outputs": [],
   "source": [
    "cases_df['distance'] = list(res_df['distance'])\n",
    "cases_df['time'] = list(res_df['time'])"
   ]
  },
  {
   "cell_type": "code",
   "execution_count": null,
   "metadata": {},
   "outputs": [],
   "source": [
    "cases_df.to_csv(r'D:/SAD/SAD_result/figures/result/raw_table/benchmark.csv')"
   ]
  },
  {
   "cell_type": "code",
   "execution_count": null,
   "metadata": {},
   "outputs": [],
   "source": [
    "# the next lines are for interactive progress tracking (which is off by default)\n",
    "#frac_done = 1.0 * res.progress / len(res)\n",
    "#print(\"Progress: \" + str(100 * frac_done) + \"% done\")"
   ]
  },
  {
   "cell_type": "code",
   "execution_count": null,
   "metadata": {
    "scrolled": true
   },
   "outputs": [],
   "source": [
    "# the next lines are for interactive progress tracking (which is off by default)\n",
    "#is_done = frac_done == 1.0\n",
    "#if is_done:\n",
    "    # add result to data frame\n",
    "#    cases_df['distance'] = res.get()\n",
    "#cases_df"
   ]
  },
  {
   "cell_type": "code",
   "execution_count": null,
   "metadata": {},
   "outputs": [],
   "source": []
  }
 ],
 "metadata": {
  "anaconda-cloud": {},
  "kernelspec": {
   "display_name": "Python 3",
   "language": "python",
   "name": "python3"
  },
  "language_info": {
   "codemirror_mode": {
    "name": "ipython",
    "version": 3
   },
   "file_extension": ".py",
   "mimetype": "text/x-python",
   "name": "python",
   "nbconvert_exporter": "python",
   "pygments_lexer": "ipython3",
   "version": "3.7.1"
  }
 },
 "nbformat": 4,
 "nbformat_minor": 1
}
